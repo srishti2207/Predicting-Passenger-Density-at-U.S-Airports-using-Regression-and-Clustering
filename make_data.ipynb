{
 "cells": [
  {
   "cell_type": "code",
   "execution_count": 1,
   "metadata": {},
   "outputs": [
    {
     "name": "stdout",
     "output_type": "stream",
     "text": [
      "Separate CSV files created for each year.\n"
     ]
    }
   ],
   "source": [
    "import pandas as pd\n",
    "\n",
    "# Assuming the dataset is loaded into a DataFrame named flight_data\n",
    "# You can load it using: flight_data = pd.read_csv('your_dataset.csv')\n",
    "flight_data = pd.read_csv('./archive (1)/Airports2.csv')\n",
    "# Convert 'Fly_date' to datetime format\n",
    "flight_data['Fly_date'] = pd.to_datetime(flight_data['Fly_date'])\n",
    "\n",
    "# Extract year from the 'Fly_date' column\n",
    "flight_data['Year'] = flight_data['Fly_date'].dt.year\n",
    "\n",
    "# Iterate over unique years and create separate CSV files\n",
    "for year in flight_data['Year'].unique():\n",
    "    year_data = flight_data[flight_data['Year'] == year]\n",
    "    year_data.to_csv(f'flight_data_{year}.csv', index=False)\n",
    "\n",
    "# Display confirmation message\n",
    "print(\"Separate CSV files created for each year.\")\n"
   ]
  },
  {
   "cell_type": "code",
   "execution_count": 2,
   "metadata": {},
   "outputs": [
    {
     "name": "stdout",
     "output_type": "stream",
     "text": [
      "Separate CSV files created for each year.\n"
     ]
    }
   ],
   "source": [
    "import pandas as pd\n",
    "\n",
    "# Assuming the dataset is loaded into a DataFrame named data\n",
    "# You can load it using: data = pd.read_csv('your_data.csv')\n",
    "data = pd.read_csv('./archive/International_Report_Departures.csv')\n",
    "# Convert 'data_dte' to datetime format\n",
    "data['data_dte'] = pd.to_datetime(data['data_dte'])\n",
    "\n",
    "# Extract year from the 'data_dte' column\n",
    "data['Year'] = data['data_dte'].dt.year\n",
    "\n",
    "# Iterate over unique years and create separate CSV files\n",
    "for year in data['Year'].unique():\n",
    "    year_data = data[data['Year'] == year]\n",
    "    year_data.to_csv(f'International_Report_Departures_{year}.csv', index=False)\n",
    "\n",
    "# Display confirmation message\n",
    "print(\"Separate CSV files created for each year.\")\n"
   ]
  },
  {
   "cell_type": "code",
   "execution_count": 3,
   "metadata": {},
   "outputs": [
    {
     "name": "stdout",
     "output_type": "stream",
     "text": [
      "Separate CSV files created for each year.\n"
     ]
    }
   ],
   "source": [
    "import pandas as pd\n",
    "\n",
    "# Assuming the dataset is loaded into a DataFrame named data\n",
    "# You can load it using: data = pd.read_csv('your_data.csv')\n",
    "data = pd.read_csv('./archive/International_Report_Passengers.csv')\n",
    "# Convert 'data_dte' to datetime format\n",
    "data['data_dte'] = pd.to_datetime(data['data_dte'])\n",
    "\n",
    "# Extract year from the 'data_dte' column\n",
    "data['Year'] = data['data_dte'].dt.year\n",
    "\n",
    "# Iterate over unique years and create separate CSV files\n",
    "for year in data['Year'].unique():\n",
    "    year_data = data[data['Year'] == year]\n",
    "    year_data.to_csv(f'International_Report_Passengers_{year}.csv', index=False)\n",
    "\n",
    "# Display confirmation message\n",
    "print(\"Separate CSV files created for each year.\")\n"
   ]
  },
  {
   "cell_type": "code",
   "execution_count": 41,
   "metadata": {},
   "outputs": [],
   "source": [
    "import airportsdata\n",
    "airports_data=airportsdata.load('IATA')\n",
    "\n",
    "def get_origin_info(airport_code):\n",
    "    try:\n",
    "        airport_info = airports_data.get(airport_code)\n",
    "        return airport_info['city'], airport_info['subd']\n",
    "    except:\n",
    "        return 'Unknown','Unknown'"
   ]
  },
  {
   "cell_type": "code",
   "execution_count": 42,
   "metadata": {},
   "outputs": [],
   "source": [
    "def process_year(year):\n",
    "    # Load departure and passenger DataFrames for the given year\n",
    "    departure_df = pd.read_csv(join(csv_dir, f'International_Report_Departures_{year}.csv'))\n",
    "    passenger_df = pd.read_csv(join(csv_dir, f'International_Report_Passengers_{year}.csv'))\n",
    "\n",
    "    # Concatenate columns for mapping\n",
    "    passenger_df['mapping'] = passenger_df.apply(lambda row: f\"{row['data_dte']}{row['usg_apt_id']}{row['usg_apt']}{row['fg_apt_id']}{row['fg_apt']}{row['airlineid']}\", axis=1)\n",
    "    departure_df['mapping'] = departure_df.apply(lambda row: f\"{row['data_dte']}{row['usg_apt_id']}{row['usg_apt']}{row['fg_apt_id']}{row['fg_apt']}{row['airlineid']}\", axis=1)\n",
    "    \n",
    "# Merge DataFrames on the mapping column\n",
    "    merged_df = pd.merge(passenger_df, departure_df[['Total','mapping']], on='mapping', how='inner', suffixes=('_departures', '_passengers'))\n",
    "    # Select and rename columns in the final DataFrame\n",
    "    final_df = merged_df[['usg_apt', 'data_dte', 'Month', 'Year','Total_departures', 'Total_passengers']]\n",
    "    final_df['Origin_city'], final_df['Origin_state'] = zip(*final_df['usg_apt'].apply(get_origin_info))\n",
    "\n",
    "    final_df.columns = ['Origin_airport', 'Fly_date', 'Month', 'Year','International_passengers','International_departures', 'Origin_city', 'Origin_state']\n",
    "\n",
    "    # Save the final DataFrame to a new CSV file for the given year\n",
    "    final_df.to_csv(f'./processed_data/International/int_final_dataset_{year}.csv', index=False)"
   ]
  },
  {
   "cell_type": "code",
   "execution_count": 43,
   "metadata": {},
   "outputs": [
    {
     "name": "stderr",
     "output_type": "stream",
     "text": [
      "c:\\Users\\neelk\\anaconda3\\envs\\cis545\\lib\\site-packages\\ipykernel_launcher.py:14: SettingWithCopyWarning: \n",
      "A value is trying to be set on a copy of a slice from a DataFrame.\n",
      "Try using .loc[row_indexer,col_indexer] = value instead\n",
      "\n",
      "See the caveats in the documentation: https://pandas.pydata.org/pandas-docs/stable/user_guide/indexing.html#returning-a-view-versus-a-copy\n",
      "  \n"
     ]
    }
   ],
   "source": [
    "import pandas as pd\n",
    "from glob import glob\n",
    "from os.path import join\n",
    "\n",
    "# Specify the directory where your CSV files are located\n",
    "csv_dir = './data/Domestic'\n",
    "\n",
    "# Get a list of all CSV files for departures and passengers\n",
    "departure_files = glob(join(csv_dir, 'International_Report_Departures_*.csv'))\n",
    "passenger_files = glob(join(csv_dir, 'International_Report_Passengers_*.csv'))\n",
    "\n",
    "# Define a function to process a specific year\n",
    "\n",
    "\n",
    "# Extract years from departure files\n",
    "years = [int(file.split('_')[-1].split('.')[0]) for file in departure_files]\n",
    "\n",
    "for year in years:\n",
    "    process_year(year)\n",
    "\n",
    "\n"
   ]
  },
  {
   "cell_type": "code",
   "execution_count": 40,
   "metadata": {},
   "outputs": [
    {
     "name": "stdout",
     "output_type": "stream",
     "text": [
      "None\n"
     ]
    }
   ],
   "source": [
    "a=airports_data.get('SUU')\n",
    "print(a)"
   ]
  },
  {
   "cell_type": "code",
   "execution_count": 13,
   "metadata": {},
   "outputs": [],
   "source": [
    "merged_df = pd.merge(departure_df[['Total','mapping']], passenger_df, on='mapping', how='inner', suffixes=('_departures', '_passengers'))"
   ]
  },
  {
   "cell_type": "code",
   "execution_count": 46,
   "metadata": {},
   "outputs": [
    {
     "name": "stdout",
     "output_type": "stream",
     "text": [
      "   A  B\n",
      "0  1  3\n",
      "1  2  4\n",
      "0  5  7\n",
      "1  6  8\n",
      "   A  B\n",
      "0  1  3\n",
      "1  2  4\n",
      "2  5  7\n",
      "3  6  8\n"
     ]
    }
   ],
   "source": [
    "import pandas as pd\n",
    "\n",
    "# Example DataFrames\n",
    "df1 = pd.DataFrame({'A': [1, 2], 'B': [3, 4]})\n",
    "df2 = pd.DataFrame({'A': [5, 6], 'B': [7, 8]})\n",
    "\n",
    "# Concatenate with ignore_index=False (default)\n",
    "result_default = pd.concat([df1, df2])\n",
    "print(result_default)\n",
    "\n",
    "# Concatenate with ignore_index=True\n",
    "result_ignore_index = pd.concat([df1, df2], ignore_index=True)\n",
    "print(result_ignore_index)\n"
   ]
  },
  {
   "cell_type": "code",
   "execution_count": 16,
   "metadata": {},
   "outputs": [
    {
     "data": {
      "text/plain": [
       "643262"
      ]
     },
     "execution_count": 16,
     "metadata": {},
     "output_type": "execute_result"
    }
   ],
   "source": [
    "merged_df['Total_departures'].sum()"
   ]
  },
  {
   "cell_type": "code",
   "execution_count": 23,
   "metadata": {},
   "outputs": [
    {
     "data": {
      "text/plain": [
       "84425428"
      ]
     },
     "execution_count": 23,
     "metadata": {},
     "output_type": "execute_result"
    }
   ],
   "source": [
    "passenger_df['Total'].sum()"
   ]
  },
  {
   "cell_type": "code",
   "execution_count": 22,
   "metadata": {},
   "outputs": [
    {
     "data": {
      "text/plain": [
       "84425428"
      ]
     },
     "execution_count": 22,
     "metadata": {},
     "output_type": "execute_result"
    }
   ],
   "source": [
    "merged_df['Total_passengers'].sum()"
   ]
  },
  {
   "cell_type": "code",
   "execution_count": null,
   "metadata": {},
   "outputs": [],
   "source": []
  },
  {
   "cell_type": "code",
   "execution_count": null,
   "metadata": {},
   "outputs": [],
   "source": []
  }
 ],
 "metadata": {
  "kernelspec": {
   "display_name": "cis545",
   "language": "python",
   "name": "python3"
  },
  "language_info": {
   "codemirror_mode": {
    "name": "ipython",
    "version": 3
   },
   "file_extension": ".py",
   "mimetype": "text/x-python",
   "name": "python",
   "nbconvert_exporter": "python",
   "pygments_lexer": "ipython3",
   "version": "3.7.0"
  }
 },
 "nbformat": 4,
 "nbformat_minor": 2
}
